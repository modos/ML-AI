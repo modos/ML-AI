{
 "cells": [
  {
   "cell_type": "code",
   "id": "initial_id",
   "metadata": {
    "collapsed": true,
    "ExecuteTime": {
     "end_time": "2024-10-24T15:00:19.674601Z",
     "start_time": "2024-10-24T15:00:16.002626Z"
    }
   },
   "source": [
    "import numpy as np\n",
    "import pandas as pd\n",
    "from sklearn.model_selection import train_test_split\n",
    "from sklearn.metrics import accuracy_score"
   ],
   "outputs": [],
   "execution_count": 1
  },
  {
   "metadata": {
    "ExecuteTime": {
     "end_time": "2024-10-24T15:00:19.750558Z",
     "start_time": "2024-10-24T15:00:19.730422Z"
    }
   },
   "cell_type": "code",
   "source": [
    "mushroom_orig_data = pd.read_csv('dataset/mushrooms.csv')\n",
    "\n",
    "\n",
    "data = mushroom_orig_data.copy()\n",
    "data = data.dropna()\n",
    "\n",
    "X = data.drop(columns='class')\n",
    "y = data['class']\n"
   ],
   "id": "6a6696ba29af41f7",
   "outputs": [],
   "execution_count": 2
  },
  {
   "metadata": {
    "ExecuteTime": {
     "end_time": "2024-10-24T15:01:44.278928Z",
     "start_time": "2024-10-24T15:01:44.273467Z"
    }
   },
   "cell_type": "code",
   "source": [
    "class PrismClassifier:\n",
    "    def __init__(self, min_support=0.1):\n",
    "        self.min_support = min_support\n",
    "        self.final_rules = []\n",
    "\n",
    "    def fit(self, X, y):\n",
    "        X_copy = X.reset_index(drop=True)\n",
    "        y_copy = y.reset_index(drop=True)\n",
    "\n",
    "        for class_label in y_copy.unique():\n",
    "            perfect_rule_found = False\n",
    "            while not perfect_rule_found:\n",
    "                best_rule = None\n",
    "                best_accuracy = 0\n",
    "\n",
    "                for feature in X_copy.columns:\n",
    "                    for value in X_copy[feature].unique():\n",
    "                        rule = (feature, value)\n",
    "                        covered_indices = X_copy[X_copy[feature] == value].index\n",
    "                        support = len(covered_indices) / len(X_copy)\n",
    "\n",
    "                        covered_y = y_copy[X_copy.index.isin(covered_indices)]\n",
    "\n",
    "                        acc = covered_y.value_counts(normalize=True).get(class_label, 0)\n",
    "\n",
    "                        if support >= self.min_support and acc > best_accuracy:\n",
    "                            best_accuracy = acc\n",
    "                            best_rule = rule\n",
    "\n",
    "                if best_rule:\n",
    "                    self.final_rules.append((best_rule, class_label))\n",
    "                    X_copy = X_copy[X_copy[best_rule[0]] != best_rule[1]]\n",
    "                    y_copy = y_copy[X_copy.index]\n",
    "                    X_copy = X_copy.reset_index(drop=True)\n",
    "                    y_copy = y_copy.reset_index(drop=True)\n",
    "\n",
    "\n",
    "                    if len(X_copy) == 0:\n",
    "                        perfect_rule_found = True\n",
    "                else:\n",
    "                    perfect_rule_found = True\n",
    "\n",
    "    def predict(self, X):\n",
    "        pred = []\n",
    "        for _, instance in X.iterrows():\n",
    "            predicted_class = self._classify_instance(instance)\n",
    "            pred.append(predicted_class)\n",
    "        return np.array(pred)\n",
    "\n",
    "    def _classify_instance(self, instance):\n",
    "        for rule, class_label in self.final_rules:\n",
    "            if isinstance(instance[rule[0]], str):\n",
    "                if instance[rule[0]] == rule[1]:\n",
    "                    return class_label\n",
    "            else:\n",
    "                if instance[rule[0]] == rule[1]:\n",
    "                    return class_label\n",
    "\n",
    "        return 'unknown'\n",
    "\n",
    "    def rules(self):\n",
    "        class_1_rules = []\n",
    "        class_0_rules = []\n",
    "        for rule, class_label in self.final_rules:\n",
    "            conditions = []\n",
    "            for f in rule:\n",
    "                if f != rule[1]:\n",
    "                    conditions.append(f\"{f}={rule[1]}\")\n",
    "            rule_string = \" AND \".join(conditions)\n",
    "\n",
    "            if class_label == 'p':\n",
    "                class_1_rules.append(rule_string)\n",
    "            else:\n",
    "                class_0_rules.append(rule_string)\n",
    "        print(\"IF\", \" AND \" .join(class_1_rules) + \" THEN class=p\")\n",
    "\n",
    "        print(\"IF\", \" AND \" .join(class_0_rules) + \" THEN class=e\")"
   ],
   "id": "5addb6c85f4e179d",
   "outputs": [],
   "execution_count": 5
  },
  {
   "metadata": {
    "ExecuteTime": {
     "end_time": "2024-10-24T15:08:25.508893Z",
     "start_time": "2024-10-24T15:08:23.864048Z"
    }
   },
   "cell_type": "code",
   "source": [
    "\n",
    "X_train, X_test, y_train, y_test = train_test_split(X, y, test_size=0.2, random_state=42)\n",
    "\n",
    "classifier = PrismClassifier(min_support=0.001)\n",
    "classifier.fit(X_train, y_train)\n",
    "\n",
    "predictions = classifier.predict(X_test)\n",
    "\n",
    "\n",
    "Prism = PrismClassifier()\n",
    "Prism.fit(X_train, y_train)\n",
    "Prism.rules()\n",
    "accuracy = accuracy_score(y_test, predictions)\n",
    "print(accuracy)\n"
   ],
   "id": "8fe1bf25fd712900",
   "outputs": [
    {
     "name": "stdout",
     "output_type": "stream",
     "text": [
      "IF odor=f AND gill-color=b AND gill-size=n AND ring-number=t AND stalk-root=c THEN class=p\n",
      "IF cap-shape=f AND cap-shape=x AND cap-shape=k AND cap-shape=b THEN class=e\n",
      "0.9661538461538461\n"
     ]
    }
   ],
   "execution_count": 18
  }
 ],
 "metadata": {
  "kernelspec": {
   "display_name": "Python 3",
   "language": "python",
   "name": "python3"
  },
  "language_info": {
   "codemirror_mode": {
    "name": "ipython",
    "version": 2
   },
   "file_extension": ".py",
   "mimetype": "text/x-python",
   "name": "python",
   "nbconvert_exporter": "python",
   "pygments_lexer": "ipython2",
   "version": "2.7.6"
  }
 },
 "nbformat": 4,
 "nbformat_minor": 5
}
