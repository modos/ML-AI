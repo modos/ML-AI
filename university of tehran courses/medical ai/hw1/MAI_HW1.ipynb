{
  "cells": [
    {
      "cell_type": "markdown",
      "metadata": {
        "id": "Ct1OHcrqhKOS"
      },
      "source": [
        "### Q1"
      ]
    },
    {
      "cell_type": "code",
      "execution_count": null,
      "metadata": {
        "colab": {
          "base_uri": "https://localhost:8080/"
        },
        "id": "NMJ4DnQXb4xp",
        "outputId": "33502d0f-214a-4c49-e58b-5b97ed64f14c"
      },
      "outputs": [
        {
          "name": "stdout",
          "output_type": "stream",
          "text": [
            "[1, 22, 37, 20]\n"
          ]
        }
      ],
      "source": [
        "from collections import deque\n",
        "from scipy.io import loadmat\n",
        "from scipy.sparse import csc_matrix\n",
        "import numpy as np\n",
        "\n",
        "file_path = \"ConnectionMatrix.mat\"\n",
        "mat_data = loadmat(file_path)\n",
        "\n",
        "node_connections = mat_data['NodeConnections']\n",
        "node_connections_dense = node_connections.toarray()\n",
        "\n",
        "def bfs(graph, start, goal):\n",
        "    start -= 1\n",
        "    goal -= 1\n",
        "    queue = deque([(start, [start])])\n",
        "    visited = set()\n",
        "\n",
        "    while queue:\n",
        "        node, path = queue.popleft()\n",
        "        if node in visited:\n",
        "            continue\n",
        "\n",
        "        visited.add(node)\n",
        "        if node == goal:\n",
        "            return [p + 1 for p in path]\n",
        "\n",
        "        for neighbor, connected in enumerate(graph[node]):\n",
        "            if connected and neighbor not in visited:\n",
        "                queue.append((neighbor, path + [neighbor]))\n",
        "\n",
        "    return None\n",
        "\n",
        "start_node = 1\n",
        "goal_node = 20\n",
        "\n",
        "graph = node_connections_dense\n",
        "path_bfs = bfs(graph, start_node, goal_node)\n",
        "\n",
        "print(path_bfs)\n"
      ]
    },
    {
      "cell_type": "markdown",
      "metadata": {
        "id": "14C16oGahQai"
      },
      "source": [
        "### Q2"
      ]
    },
    {
      "cell_type": "code",
      "execution_count": 3,
      "metadata": {
        "colab": {
          "base_uri": "https://localhost:8080/"
        },
        "id": "gdxjOYC-hRza",
        "outputId": "249860ba-bc59-4fed-d8a7-b39e2588e2b3"
      },
      "outputs": [
        {
          "output_type": "stream",
          "name": "stdout",
          "text": [
            "[1, 5, 30, 11, 3, 22, 33, 44, 19, 48, 36, 6, 34, 13, 18, 74, 26, 23, 25, 14, 42, 63, 20]\n"
          ]
        }
      ],
      "source": [
        "from collections import deque\n",
        "from scipy.io import loadmat\n",
        "from scipy.sparse import csc_matrix\n",
        "import numpy as np\n",
        "\n",
        "file_path = \"ConnectionMatrix.mat\"\n",
        "mat_data = loadmat(file_path)\n",
        "\n",
        "node_connections = mat_data['NodeConnections']\n",
        "node_connections_dense = node_connections.toarray()\n",
        "\n",
        "def dfs(graph, start, goal):\n",
        "    start -= 1\n",
        "    goal -= 1\n",
        "    stack = [(start, [start])]\n",
        "    visited = set()\n",
        "\n",
        "    while stack:\n",
        "        node, path = stack.pop()\n",
        "        if node in visited:\n",
        "            continue\n",
        "\n",
        "        visited.add(node)\n",
        "        if node == goal:\n",
        "            return [p + 1 for p in path]\n",
        "\n",
        "        for neighbor, connected in reversed(list(enumerate(graph[node]))):\n",
        "            if connected and neighbor not in visited:\n",
        "                stack.append((neighbor, path + [neighbor]))\n",
        "\n",
        "    return None\n",
        "\n",
        "start_node = 1\n",
        "goal_node = 20\n",
        "\n",
        "graph = node_connections_dense\n",
        "path_dfs = dfs(graph, start_node, goal_node)\n",
        "\n",
        "print(path_dfs)\n"
      ]
    },
    {
      "cell_type": "markdown",
      "metadata": {
        "id": "rcKjUbO0jylh"
      },
      "source": [
        "### Q3"
      ]
    },
    {
      "cell_type": "code",
      "execution_count": null,
      "metadata": {
        "colab": {
          "base_uri": "https://localhost:8080/"
        },
        "id": "ZqAl2-QMiEmA",
        "outputId": "626b034d-ac7e-4a19-ffb0-800942758f1c"
      },
      "outputs": [
        {
          "name": "stdout",
          "output_type": "stream",
          "text": [
            "[1, 94, 7, 2, 28, 97, 20]\n"
          ]
        }
      ],
      "source": [
        "from collections import deque\n",
        "from scipy.io import loadmat\n",
        "from scipy.sparse import csc_matrix\n",
        "import numpy as np\n",
        "\n",
        "file_path = \"ConnectionMatrix.mat\"\n",
        "mat_data = loadmat(file_path)\n",
        "\n",
        "node_connections = mat_data['NodeConnections']\n",
        "node_connections_dense = node_connections.toarray()\n",
        "\n",
        "def best_first_search(graph, start, goal, heuristic):\n",
        "    start -= 1\n",
        "    goal -= 1\n",
        "    priority_queue = [(heuristic[start], start, [start])]\n",
        "    visited = set()\n",
        "\n",
        "    while priority_queue:\n",
        "        priority_queue.sort()\n",
        "        _, node, path = priority_queue.pop(0)\n",
        "\n",
        "        if node in visited:\n",
        "            continue\n",
        "\n",
        "        visited.add(node)\n",
        "        if node == goal:\n",
        "            return [p + 1 for p in path]\n",
        "\n",
        "        for neighbor, connected in enumerate(graph[node]):\n",
        "            if connected and neighbor not in visited:\n",
        "                priority_queue.append((heuristic[neighbor], neighbor, path + [neighbor]))\n",
        "\n",
        "    return None\n",
        "\n",
        "start_node = 1\n",
        "goal_node = 20\n",
        "\n",
        "heuristic = np.random.rand(len(node_connections_dense))\n",
        "\n",
        "graph = node_connections_dense\n",
        "path_best_first = best_first_search(graph, start_node, goal_node, heuristic)\n",
        "\n",
        "print(path_best_first)\n"
      ]
    },
    {
      "cell_type": "markdown",
      "metadata": {
        "id": "64xK-qMEj0hR"
      },
      "source": [
        "### Q4"
      ]
    },
    {
      "cell_type": "code",
      "execution_count": null,
      "metadata": {
        "colab": {
          "base_uri": "https://localhost:8080/"
        },
        "id": "5BsE-k-bjxha",
        "outputId": "5a856940-6712-490a-c280-3a269edd1bb0"
      },
      "outputs": [
        {
          "name": "stdout",
          "output_type": "stream",
          "text": [
            "[1, 22, 37, 20]\n"
          ]
        }
      ],
      "source": [
        "from collections import deque\n",
        "from scipy.io import loadmat\n",
        "from scipy.sparse import csc_matrix\n",
        "import numpy as np\n",
        "\n",
        "file_path = \"ConnectionMatrix.mat\"\n",
        "mat_data = loadmat(file_path)\n",
        "\n",
        "node_connections = mat_data['NodeConnections']\n",
        "node_connections_dense = node_connections.toarray()\n",
        "\n",
        "def progressive_deepening_search(graph, start, goal, max_depth):\n",
        "    start -= 1\n",
        "    goal -= 1\n",
        "\n",
        "    def dls(node, path, depth):\n",
        "        if depth < 0:\n",
        "            return None\n",
        "        if node == goal:\n",
        "            return [p + 1 for p in path]\n",
        "\n",
        "        for neighbor, connected in enumerate(graph[node]):\n",
        "            if connected and neighbor not in path:\n",
        "                result = dls(neighbor, path + [neighbor], depth - 1)\n",
        "                if result:\n",
        "                    return result\n",
        "        return None\n",
        "\n",
        "    for depth in range(max_depth + 1):\n",
        "        result = dls(start, [start], depth)\n",
        "        if result:\n",
        "            return result\n",
        "\n",
        "    return None\n",
        "\n",
        "start_node = 1\n",
        "goal_node = 20\n",
        "max_search_depth = 50\n",
        "\n",
        "graph = node_connections_dense\n",
        "path_progressive_deepening = progressive_deepening_search(graph, start_node, goal_node, max_search_depth)\n",
        "\n",
        "print(path_progressive_deepening)\n"
      ]
    },
    {
      "cell_type": "markdown",
      "metadata": {
        "id": "nVJZDBIyn6q7"
      },
      "source": [
        "### Q1_Without_Visited_List"
      ]
    },
    {
      "cell_type": "code",
      "execution_count": null,
      "metadata": {
        "colab": {
          "base_uri": "https://localhost:8080/"
        },
        "id": "CbyB5GFEn-CT",
        "outputId": "878a9852-4bb0-4828-96bc-82ad13c844da"
      },
      "outputs": [
        {
          "name": "stdout",
          "output_type": "stream",
          "text": [
            "[1, 22, 37, 20]\n"
          ]
        }
      ],
      "source": [
        "from collections import deque\n",
        "from scipy.io import loadmat\n",
        "import numpy as np\n",
        "\n",
        "file_path = \"ConnectionMatrix.mat\"\n",
        "mat_data = loadmat(file_path)\n",
        "\n",
        "node_connections = mat_data['NodeConnections']\n",
        "graph = node_connections.toarray()\n",
        "\n",
        "def bfs(graph, start, goal):\n",
        "    start -= 1\n",
        "    goal -= 1\n",
        "    queue = deque([(start, [start])])\n",
        "\n",
        "    while queue:\n",
        "        node, path = queue.popleft()\n",
        "\n",
        "        if node == goal:\n",
        "            return [p + 1 for p in path]\n",
        "\n",
        "        for neighbor, connected in enumerate(graph[node]):\n",
        "            if connected:\n",
        "                queue.append((neighbor, path + [neighbor]))\n",
        "\n",
        "    return None\n",
        "\n",
        "start_node = 1\n",
        "goal_node = 20\n",
        "\n",
        "path_bfs = bfs(graph, start_node, goal_node)\n",
        "\n",
        "print(path_bfs)\n"
      ]
    },
    {
      "cell_type": "markdown",
      "metadata": {
        "id": "nN-ETiW7oQl8"
      },
      "source": [
        "### Q2_Without_Visited_List"
      ]
    },
    {
      "cell_type": "code",
      "execution_count": 5,
      "metadata": {
        "colab": {
          "base_uri": "https://localhost:8080/"
        },
        "id": "BsWtX5wHoS40",
        "outputId": "08a5eac1-9521-4161-a7f4-4d1f1c0cca0b"
      },
      "outputs": [
        {
          "output_type": "stream",
          "name": "stdout",
          "text": [
            "[1, 5, 30, 11, 3, 53, 21, 6, 33, 72, 17, 76, 19, 48, 36, 9, 10, 82, 24, 40, 80, 66, 96, 20]\n"
          ]
        }
      ],
      "source": [
        "from scipy.io import loadmat\n",
        "import numpy as np\n",
        "from scipy.sparse import csr_matrix\n",
        "\n",
        "file_path = \"ConnectionMatrix.mat\"\n",
        "mat_data = loadmat(file_path)\n",
        "\n",
        "node_connections = mat_data['NodeConnections']\n",
        "graph = csr_matrix(node_connections)\n",
        "\n",
        "def dfs(graph, start, goal):\n",
        "    start -= 1\n",
        "    goal -= 1\n",
        "    stack = [start]\n",
        "    parent = {start: None}\n",
        "\n",
        "    while stack:\n",
        "        node = stack.pop()\n",
        "\n",
        "        if node == goal:\n",
        "            path = []\n",
        "            while node is not None:\n",
        "                path.append(node + 1)\n",
        "                node = parent[node]\n",
        "            return path[::-1]\n",
        "\n",
        "        for neighbor in reversed(graph[node].indices):\n",
        "            if neighbor not in parent:\n",
        "                stack.append(neighbor)\n",
        "                parent[neighbor] = node\n",
        "\n",
        "    return None\n",
        "\n",
        "start_node = 1\n",
        "goal_node = 20\n",
        "\n",
        "path_dfs = dfs(graph, start_node, goal_node)\n",
        "\n",
        "print(path_dfs)\n"
      ]
    },
    {
      "cell_type": "markdown",
      "source": [
        "### Q3_Without_Visited_List"
      ],
      "metadata": {
        "id": "BCICIepq1zZt"
      }
    },
    {
      "cell_type": "code",
      "source": [
        "from scipy.io import loadmat\n",
        "import numpy as np\n",
        "\n",
        "file_path = \"ConnectionMatrix.mat\"\n",
        "mat_data = loadmat(file_path)\n",
        "\n",
        "node_connections = mat_data['NodeConnections']\n",
        "node_connections_dense = node_connections.toarray()\n",
        "\n",
        "def best_first_search(graph, start, goal, heuristic):\n",
        "    start -= 1\n",
        "    goal -= 1\n",
        "    priority_queue = [(heuristic[start], start, [start])]\n",
        "\n",
        "    while priority_queue:\n",
        "        priority_queue.sort()\n",
        "        _, node, path = priority_queue.pop(0)\n",
        "\n",
        "        if node == goal:\n",
        "            return [p + 1 for p in path]\n",
        "\n",
        "        for neighbor, connected in enumerate(graph[node]):\n",
        "            if connected:\n",
        "                priority_queue.append((heuristic[neighbor], neighbor, path + [neighbor]))\n",
        "\n",
        "    return None\n",
        "\n",
        "start_node = 1\n",
        "goal_node = 20\n",
        "\n",
        "heuristic = np.random.rand(len(node_connections_dense))\n",
        "\n",
        "graph = node_connections_dense\n",
        "path_best_first = best_first_search(graph, start_node, goal_node, heuristic)\n",
        "\n",
        "print(path_best_first)\n"
      ],
      "metadata": {
        "colab": {
          "base_uri": "https://localhost:8080/"
        },
        "id": "9yKIJZ0-13OF",
        "outputId": "ef87321e-50eb-4464-a470-dfd340e7ce09"
      },
      "execution_count": 2,
      "outputs": [
        {
          "output_type": "stream",
          "name": "stdout",
          "text": [
            "[1, 5, 64, 70, 96, 20]\n"
          ]
        }
      ]
    },
    {
      "cell_type": "markdown",
      "source": [
        "### Q4_Without_Visited_List"
      ],
      "metadata": {
        "id": "94aWs8SZ27es"
      }
    },
    {
      "cell_type": "code",
      "source": [
        "from scipy.io import loadmat\n",
        "import numpy as np\n",
        "\n",
        "file_path = \"ConnectionMatrix.mat\"\n",
        "mat_data = loadmat(file_path)\n",
        "\n",
        "node_connections = mat_data['NodeConnections']\n",
        "node_connections_dense = node_connections.toarray()\n",
        "\n",
        "def progressive_deepening_search(graph, start, goal, max_depth):\n",
        "    start -= 1\n",
        "    goal -= 1\n",
        "\n",
        "    def dls(node, path, depth):\n",
        "        if depth < 0:\n",
        "            return None\n",
        "        if node == goal:\n",
        "            return [p + 1 for p in path]\n",
        "\n",
        "        for neighbor, connected in enumerate(graph[node]):\n",
        "            if connected:\n",
        "                result = dls(neighbor, path + [neighbor], depth - 1)\n",
        "                if result:\n",
        "                    return result\n",
        "        return None\n",
        "\n",
        "    for depth in range(max_depth + 1):\n",
        "        result = dls(start, [start], depth)\n",
        "        if result:\n",
        "            return result\n",
        "\n",
        "    return None\n",
        "\n",
        "start_node = 1\n",
        "goal_node = 20\n",
        "max_search_depth = 50\n",
        "\n",
        "graph = node_connections_dense\n",
        "path_progressive_deepening = progressive_deepening_search(graph, start_node, goal_node, max_search_depth)\n",
        "\n",
        "print(path_progressive_deepening)"
      ],
      "metadata": {
        "colab": {
          "base_uri": "https://localhost:8080/"
        },
        "id": "7nmYZG_p3C41",
        "outputId": "97ae2413-8079-4995-edc8-6760b0bdc46e"
      },
      "execution_count": 4,
      "outputs": [
        {
          "output_type": "stream",
          "name": "stdout",
          "text": [
            "[1, 22, 37, 20]\n"
          ]
        }
      ]
    }
  ],
  "metadata": {
    "colab": {
      "provenance": [],
      "collapsed_sections": [
        "14C16oGahQai",
        "rcKjUbO0jylh",
        "64xK-qMEj0hR",
        "nVJZDBIyn6q7",
        "BCICIepq1zZt",
        "94aWs8SZ27es"
      ]
    },
    "kernelspec": {
      "display_name": "Python 3",
      "name": "python3"
    },
    "language_info": {
      "name": "python"
    }
  },
  "nbformat": 4,
  "nbformat_minor": 0
}