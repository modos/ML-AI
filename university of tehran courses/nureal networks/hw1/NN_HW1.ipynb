{
  "nbformat": 4,
  "nbformat_minor": 0,
  "metadata": {
    "colab": {
      "provenance": [],
      "collapsed_sections": [
        "85jwGQA-ZeJh",
        "DIKJ8FEwGWpB"
      ]
    },
    "kernelspec": {
      "name": "python3",
      "display_name": "Python 3"
    },
    "language_info": {
      "name": "python"
    }
  },
  "cells": [
    {
      "cell_type": "code",
      "source": [
        "import numpy as np\n",
        "from sklearn.model_selection import KFold\n",
        "from sklearn.linear_model import LinearRegression\n",
        "from sklearn.metrics import mean_squared_error\n",
        "from sklearn.preprocessing import PolynomialFeatures\n",
        "from sklearn.linear_model import Ridge\n",
        "import matplotlib.pyplot as plt\n",
        "from sklearn.model_selection import GridSearchCV\n",
        "import pandas as pd\n",
        "import cv2\n",
        "import requests\n",
        "from io import BytesIO\n",
        "from sklearn.model_selection import train_test_split\n",
        "from sklearn.linear_model import LogisticRegression\n",
        "from sklearn.metrics import accuracy_score, precision_score, recall_score, f1_score\n",
        "from sklearn.metrics import confusion_matrix\n",
        "import seaborn as sns\n",
        "import matplotlib.pyplot as plt"
      ],
      "metadata": {
        "id": "Adt8UmWSKzq5"
      },
      "execution_count": null,
      "outputs": []
    },
    {
      "cell_type": "markdown",
      "source": [
        "### Q2"
      ],
      "metadata": {
        "id": "85jwGQA-ZeJh"
      }
    },
    {
      "cell_type": "code",
      "execution_count": null,
      "metadata": {
        "colab": {
          "base_uri": "https://localhost:8080/",
          "height": 219
        },
        "id": "Xpq1GxgNKw7t",
        "outputId": "8e3fd9b3-93fd-412d-9a5a-b4206fa6dbec"
      },
      "outputs": [
        {
          "output_type": "error",
          "ename": "NameError",
          "evalue": "name 'np' is not defined",
          "traceback": [
            "\u001b[0;31m---------------------------------------------------------------------------\u001b[0m",
            "\u001b[0;31mNameError\u001b[0m                                 Traceback (most recent call last)",
            "\u001b[0;32m<ipython-input-1-efc73efb9ece>\u001b[0m in \u001b[0;36m<cell line: 4>\u001b[0;34m()\u001b[0m\n\u001b[1;32m      2\u001b[0m \u001b[0mY\u001b[0m \u001b[0;34m=\u001b[0m \u001b[0;34m[\u001b[0m\u001b[0;36m46\u001b[0m\u001b[0;34m,\u001b[0m \u001b[0;36m80\u001b[0m\u001b[0;34m,\u001b[0m \u001b[0;36m36\u001b[0m\u001b[0;34m,\u001b[0m \u001b[0;36m52\u001b[0m\u001b[0;34m,\u001b[0m \u001b[0;36m98\u001b[0m\u001b[0;34m,\u001b[0m \u001b[0;36m75\u001b[0m\u001b[0;34m,\u001b[0m \u001b[0;36m10\u001b[0m\u001b[0;34m,\u001b[0m \u001b[0;36m70\u001b[0m\u001b[0;34m,\u001b[0m \u001b[0;36m64\u001b[0m\u001b[0;34m,\u001b[0m \u001b[0;36m30\u001b[0m\u001b[0;34m]\u001b[0m\u001b[0;34m\u001b[0m\u001b[0;34m\u001b[0m\u001b[0m\n\u001b[1;32m      3\u001b[0m \u001b[0;34m\u001b[0m\u001b[0m\n\u001b[0;32m----> 4\u001b[0;31m \u001b[0mmean_X\u001b[0m \u001b[0;34m=\u001b[0m \u001b[0mnp\u001b[0m\u001b[0;34m.\u001b[0m\u001b[0mmean\u001b[0m\u001b[0;34m(\u001b[0m\u001b[0mX\u001b[0m\u001b[0;34m)\u001b[0m\u001b[0;34m\u001b[0m\u001b[0;34m\u001b[0m\u001b[0m\n\u001b[0m\u001b[1;32m      5\u001b[0m \u001b[0mmean_Y\u001b[0m \u001b[0;34m=\u001b[0m \u001b[0mnp\u001b[0m\u001b[0;34m.\u001b[0m\u001b[0mmean\u001b[0m\u001b[0;34m(\u001b[0m\u001b[0mY\u001b[0m\u001b[0;34m)\u001b[0m\u001b[0;34m\u001b[0m\u001b[0;34m\u001b[0m\u001b[0m\n\u001b[1;32m      6\u001b[0m \u001b[0;34m\u001b[0m\u001b[0m\n",
            "\u001b[0;31mNameError\u001b[0m: name 'np' is not defined"
          ]
        }
      ],
      "source": [
        "X = [16, 27, 11, 20, 30, 25, 5, 24, 21, 10]\n",
        "Y = [46, 80, 36, 52, 98, 75, 10, 70, 64, 30]\n",
        "\n",
        "mean_X = np.mean(X)\n",
        "mean_Y = np.mean(Y)\n",
        "\n",
        "var_X = np.var(X)\n",
        "var_Y = np.var(Y)\n",
        "\n",
        "cov_XY = np.cov(X, Y)[0, 1]\n",
        "\n",
        "corr_XY = np.corrcoef(X, Y)[0, 1]\n",
        "\n",
        "print(\"Mean of X:\", mean_X)\n",
        "print(\"Mean of Y:\", mean_Y)\n",
        "print(\"Variance of X:\", var_X)\n",
        "print(\"Variance of Y:\", var_Y)\n",
        "print(\"Covariance of X and Y:\", cov_XY)\n",
        "print(\"Correlation of X and Y:\", corr_XY)"
      ]
    },
    {
      "cell_type": "markdown",
      "source": [
        "### Q3"
      ],
      "metadata": {
        "id": "DIKJ8FEwGWpB"
      }
    },
    {
      "cell_type": "code",
      "source": [
        "def extract_features_from_url(image_url):\n",
        "    response = requests.get(image_url)\n",
        "    image = np.asarray(bytearray(response.content), dtype=\"uint8\")\n",
        "    image = cv2.imdecode(image, cv2.IMREAD_COLOR)\n",
        "    mean = cv2.mean(image)\n",
        "    return [mean[0], mean[1], mean[2]]\n",
        "\n",
        "features = []\n",
        "labels = []\n",
        "for i in range(1, 65):\n",
        "    features.append(extract_features_from_url('https://raw.githubusercontent.com/modos/ML-AI/refs/heads/main/datasets/united_chelsea_images/c' + str(i) + '.jpg'))\n",
        "    labels.append(0)\n",
        "for i in range(1, 59):\n",
        "    features.append(extract_features_from_url('https://raw.githubusercontent.com/modos/ML-AI/refs/heads/main/datasets/united_chelsea_images/m' + str(i) + '.jpg'))\n",
        "    labels.append(1)\n",
        "\n",
        "\n",
        "X_train, X_test, y_train, y_test = train_test_split(features, labels, test_size=0.2, random_state=42)\n",
        "\n",
        "classifier = LogisticRegression()\n",
        "classifier.fit(X_train, y_train)\n",
        "\n",
        "y_pred = classifier.predict(X_test)\n",
        "\n",
        "accuracy = accuracy_score(y_test, y_pred)\n",
        "precision = precision_score(y_test, y_pred)\n",
        "recall = recall_score(y_test, y_pred)\n",
        "f1 = f1_score(y_test, y_pred)\n",
        "\n",
        "print(\"Accuracy:\", accuracy)\n",
        "print(\"Precision:\", precision)\n",
        "print(\"Recall:\", recall)\n",
        "print(\"F1-score:\", f1)"
      ],
      "metadata": {
        "colab": {
          "base_uri": "https://localhost:8080/"
        },
        "id": "V9jEfIOQIUCI",
        "outputId": "98daedf7-0265-417d-b355-bdb370bec8d1"
      },
      "execution_count": null,
      "outputs": [
        {
          "output_type": "stream",
          "name": "stdout",
          "text": [
            "Accuracy: 0.96\n",
            "Precision: 1.0\n",
            "Recall: 0.8888888888888888\n",
            "F1-score: 0.9411764705882353\n"
          ]
        }
      ]
    },
    {
      "cell_type": "code",
      "source": [
        "cm = confusion_matrix(y_test, y_pred)\n",
        "\n",
        "cmap = sns.color_palette([\"blue\", \"red\"])\n",
        "\n",
        "plt.figure(figsize=(8, 6))\n",
        "sns.heatmap(cm, annot=True, fmt=\"d\", cmap=cmap,\n",
        "            xticklabels=[\"Chelsea\", \"Man United\"],\n",
        "            yticklabels=[\"Chelsea\", \"Man United\"])\n",
        "plt.xlabel(\"Predicted\")\n",
        "plt.ylabel(\"Actual\")\n",
        "plt.title(\"Confusion Matrix\")\n",
        "plt.show()"
      ],
      "metadata": {
        "colab": {
          "base_uri": "https://localhost:8080/",
          "height": 564
        },
        "id": "g9qgCauBYQA6",
        "outputId": "e5833a6b-6881-4791-deff-b29b35b4b3fb"
      },
      "execution_count": null,
      "outputs": [
        {
          "output_type": "display_data",
          "data": {
            "text/plain": [
              "<Figure size 800x600 with 2 Axes>"
            ],
            "image/png": "[encoded data removed]"
          },
          "metadata": {}
        }
      ]
    },
    {
      "cell_type": "markdown",
      "source": [
        "### Q4"
      ],
      "metadata": {
        "id": "VQJXlGvNZwdZ"
      }
    },
    {
      "cell_type": "markdown",
      "source": [
        "#### Linear Regression"
      ],
      "metadata": {
        "id": "dAQhTz1Mb2TY"
      }
    },
    {
      "cell_type": "code",
      "source": [
        "x = np.arange(-10, 10, 0.2)\n",
        "y = 2 * np.cos(x) / (-np.pi) + 2 * np.sin(2 * x) / (2 * np.pi) + 2 * np.cos(3 * x) / (-3 * np.pi)\n",
        "\n",
        "k = 5\n",
        "\n",
        "kf = KFold(n_splits=k, shuffle=True, random_state=42)\n",
        "\n",
        "mse_list = []\n",
        "\n",
        "for train_index, test_index in kf.split(x):\n",
        "  X_train, X_test = x[train_index], x[test_index]\n",
        "  y_train, y_test = y[train_index], y[test_index]\n",
        "\n",
        "  model = LinearRegression()\n",
        "\n",
        "  model.fit(X_train.reshape(-1, 1), y_train)\n",
        "\n",
        "  y_pred = model.predict(X_test.reshape(-1, 1))\n",
        "\n",
        "\n",
        "  mse = mean_squared_error(y_test, y_pred)\n",
        "\n",
        "  mse_list.append(mse)\n",
        "\n",
        "avg_mse = np.mean(mse_list)\n",
        "\n",
        "print(\"Average Mean Squared Error:\", avg_mse)"
      ],
      "metadata": {
        "colab": {
          "base_uri": "https://localhost:8080/"
        },
        "id": "V8-bWlqGbig4",
        "outputId": "474a2ef5-180e-4b67-9b75-78532885e203"
      },
      "execution_count": null,
      "outputs": [
        {
          "output_type": "stream",
          "name": "stdout",
          "text": [
            "Average Mean Squared Error: 0.3061427445490536\n"
          ]
        }
      ]
    },
    {
      "cell_type": "markdown",
      "source": [
        "#### Polynomial Regression"
      ],
      "metadata": {
        "id": "nHE9msvXb3-Y"
      }
    },
    {
      "cell_type": "code",
      "source": [
        "x = np.arange(-10, 10, 0.2)\n",
        "y = 2 * np.cos(x) / (-np.pi) + 2 * np.sin(2 * x) / (2 * np.pi) + 2 * np.cos(3 * x) / (-3 * np.pi)\n",
        "\n",
        "degree = 3\n",
        "\n",
        "kf = KFold(n_splits=5, shuffle=True, random_state=42)\n",
        "\n",
        "mse_list = []\n",
        "\n",
        "for train_index, test_index in kf.split(x):\n",
        "  X_train, X_test = x[train_index], x[test_index]\n",
        "  y_train, y_test = y[train_index], y[test_index]\n",
        "\n",
        "  poly_features = PolynomialFeatures(degree=degree)\n",
        "\n",
        "  X_train_poly = poly_features.fit_transform(X_train.reshape(-1, 1))\n",
        "  X_test_poly = poly_features.transform(X_test.reshape(-1, 1))\n",
        "\n",
        "  model = LinearRegression()\n",
        "\n",
        "  model.fit(X_train_poly, y_train)\n",
        "\n",
        "  y_pred = model.predict(X_test_poly)\n",
        "\n",
        "  mse = mean_squared_error(y_test, y_pred)\n",
        "\n",
        "  mse_list.append(mse)\n",
        "\n",
        "avg_mse = np.mean(mse_list)\n",
        "\n",
        "print(\"Average Mean Squared Error:\", avg_mse)"
      ],
      "metadata": {
        "colab": {
          "base_uri": "https://localhost:8080/"
        },
        "id": "-dy3gexsb6Xw",
        "outputId": "a11d938c-d63f-4525-e5e1-6075eb52c9c4"
      },
      "execution_count": null,
      "outputs": [
        {
          "output_type": "stream",
          "name": "stdout",
          "text": [
            "Average Mean Squared Error: 0.31315210042111474\n"
          ]
        }
      ]
    },
    {
      "cell_type": "markdown",
      "source": [
        "#### Ridge Regression"
      ],
      "metadata": {
        "id": "p-0URYEOcVd4"
      }
    },
    {
      "cell_type": "code",
      "source": [
        "x = np.arange(-10, 10, 0.2)\n",
        "y = 2 * np.cos(x) / (-np.pi) + 2 * np.sin(2 * x) / (2 * np.pi) + 2 * np.cos(3 * x) / (-3 * np.pi)\n",
        "\n",
        "degree = 3\n",
        "\n",
        "alpha = 0.5\n",
        "\n",
        "kf = KFold(n_splits=5, shuffle=True, random_state=42)\n",
        "\n",
        "mse_list = []\n",
        "\n",
        "for train_index, test_index in kf.split(x):\n",
        "  X_train, X_test = x[train_index], x[test_index]\n",
        "  y_train, y_test = y[train_index], y[test_index]\n",
        "\n",
        "  poly_features = PolynomialFeatures(degree=degree)\n",
        "\n",
        "  X_train_poly = poly_features.fit_transform(X_train.reshape(-1, 1))\n",
        "  X_test_poly = poly_features.transform(X_test.reshape(-1, 1))\n",
        "\n",
        "  model = Ridge(alpha=alpha)\n",
        "\n",
        "  model.fit(X_train_poly, y_train)\n",
        "\n",
        "  y_pred = model.predict(X_test_poly)\n",
        "\n",
        "  mse = mean_squared_error(y_test, y_pred)\n",
        "\n",
        "  mse_list.append(mse)\n",
        "\n",
        "avg_mse = np.mean(mse_list)\n",
        "\n",
        "print(\"Average Mean Squared Error:\", avg_mse)"
      ],
      "metadata": {
        "colab": {
          "base_uri": "https://localhost:8080/"
        },
        "id": "6AogKdHwcNpB",
        "outputId": "f4dfbf4c-dcf4-452b-e4bc-0ef9fa5d65bf"
      },
      "execution_count": null,
      "outputs": [
        {
          "output_type": "stream",
          "name": "stdout",
          "text": [
            "Average Mean Squared Error: 0.31313622007161973\n"
          ]
        }
      ]
    },
    {
      "cell_type": "code",
      "source": [
        "x = np.arange(-10, 10, 0.2)\n",
        "y = 2 * np.cos(x) / (-np.pi) + 2 * np.sin(2 * x) / (2 * np.pi) + 2 * np.cos(3 * x) / (-3 * np.pi)\n",
        "\n",
        "alpha_range = np.logspace(-3, 3, 100)\n",
        "\n",
        "param_grid = {'alpha': alpha_range}\n",
        "\n",
        "grid = GridSearchCV(Ridge(), param_grid, cv=5)\n",
        "\n",
        "poly_features = PolynomialFeatures(degree=3)\n",
        "X_poly = poly_features.fit_transform(x.reshape(-1, 1))\n",
        "\n",
        "grid.fit(X_poly, y)\n",
        "\n",
        "best_alpha = grid.best_params_['alpha']\n",
        "print(\"best alpha:\", best_alpha)\n",
        "\n",
        "results = pd.DataFrame({'alpha': alpha_range, 'mean_test_score': -grid.cv_results_['mean_test_score']})\n",
        "\n",
        "plt.plot(results['alpha'], results['mean_test_score'])\n",
        "plt.xscale('log')\n",
        "plt.xlabel('alpha')\n",
        "plt.ylabel('MSE')\n",
        "plt.title('MSE Based on Alpha')\n",
        "plt.grid(True)\n",
        "plt.show()"
      ],
      "metadata": {
        "colab": {
          "base_uri": "https://localhost:8080/",
          "height": 494
        },
        "id": "o9CT18oUcs7v",
        "outputId": "d4f494b8-44de-48b5-94e2-c623419067a5"
      },
      "execution_count": null,
      "outputs": [
        {
          "output_type": "stream",
          "name": "stdout",
          "text": [
            "best alpha: 1000.0\n"
          ]
        },
        {
          "output_type": "display_data",
          "data": {
            "text/plain": [
              "<Figure size 640x480 with 1 Axes>"
            ],
            "image/png": "[encoded data removed]"
          },
          "metadata": {}
        }
      ]
    }
  ]
}